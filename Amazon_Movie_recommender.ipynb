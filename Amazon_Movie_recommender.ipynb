{
 "cells": [
  {
   "cell_type": "code",
   "execution_count": 5,
   "metadata": {},
   "outputs": [
    {
     "name": "stdout",
     "output_type": "stream",
     "text": [
      "<class 'pandas.core.frame.DataFrame'>\n",
      "RangeIndex: 2108 entries, 0 to 2107\n",
      "Data columns (total 10 columns):\n",
      " #   Column         Non-Null Count  Dtype  \n",
      "---  ------         --------------  -----  \n",
      " 0   Unnamed: 0     2108 non-null   int64  \n",
      " 1   title          2108 non-null   object \n",
      " 2   Movie_Rating   2108 non-null   float64\n",
      " 3   No_of_Ratings  2108 non-null   int64  \n",
      " 4   Format         2108 non-null   object \n",
      " 5   ReleaseYear    2069 non-null   float64\n",
      " 6   MPAA_Rating    1378 non-null   object \n",
      " 7   Directed_By    2043 non-null   object \n",
      " 8   Starring       2107 non-null   object \n",
      " 9   Price          1011 non-null   float64\n",
      "dtypes: float64(3), int64(2), object(5)\n",
      "memory usage: 164.8+ KB\n"
     ]
    }
   ],
   "source": [
    "import numpy as np\n",
    "import matplotlib.pyplot as plt\n",
    "import pandas as pd\n",
    "\n",
    "# Importing the dataset\n",
    "film_data = pd.read_csv('Amazon- Movies and Films.csv')\n",
    "# Summary of the dataset\n",
    "film_data.describe()\n",
    "# Information about the dataset\n",
    "film_data.info()"
   ]
  },
  {
   "cell_type": "code",
   "execution_count": 6,
   "metadata": {},
   "outputs": [
    {
     "name": "stdout",
     "output_type": "stream",
     "text": [
      "      Unnamed: 0                   title  Movie_Rating  No_of_Ratings  \\\n",
      "407          407   2001: A Space Odyssey           4.6           8641   \n",
      "421          421   2001: A Space Odyssey           4.6           8641   \n",
      "1079        1079                21 Grams           4.3            957   \n",
      "1065        1065                21 Grams           4.3            957   \n",
      "677          677  9/11: Minute by Minute           4.1            255   \n",
      "...          ...                     ...           ...            ...   \n",
      "308          308           Woman in Gold           4.8           8630   \n",
      "691          691                       X           4.0           8240   \n",
      "672          672                       X           4.0           8240   \n",
      "1419        1428   X-Men: The Last Stand           4.6          10495   \n",
      "1591        1600   X-Men: The Last Stand           4.6          10495   \n",
      "\n",
      "           Format  ReleaseYear MPAA_Rating                  Directed_By  \\\n",
      "407   Prime Video       1970.0           G              Stanley Kubrick   \n",
      "421   Prime Video       1970.0           G              Stanley Kubrick   \n",
      "1079  Prime Video       2004.0           R  Alejandro Gonzalez Inarritu   \n",
      "1065  Prime Video       2004.0           R  Alejandro Gonzalez Inarritu   \n",
      "677   Prime Video       2021.0         NaN                Piers Garland   \n",
      "...           ...          ...         ...                          ...   \n",
      "308   Prime Video       2015.0       PG-13                 Simon Curtis   \n",
      "691   Prime Video       2022.0           R                      Ti West   \n",
      "672   Prime Video       2022.0           R                      Ti West   \n",
      "1419  Prime Video       2006.0       PG-13                 Brett Ratner   \n",
      "1591  Prime Video       2006.0       PG-13                 Brett Ratner   \n",
      "\n",
      "                                               Starring  Price  \n",
      "407         Keir Dullea,Gary Lockwood,William Sylvester   3.79  \n",
      "421         Keir Dullea,Gary Lockwood,William Sylvester   3.79  \n",
      "1079  Naomi Watts,Benicio Del Toro,Sean Penn,Clea Du...   3.79  \n",
      "1065  Naomi Watts,Benicio Del Toro,Sean Penn,Clea Du...   3.79  \n",
      "677             Betty Ong,Nydia Gonzalez,George W. Bush   2.99  \n",
      "...                                                 ...    ...  \n",
      "308             Ryan Reynolds,Helen Mirren,Katie Holmes   3.99  \n",
      "691        Mia Goth,Jenna Ortega,Brittany Snow,Kid Cudi   3.59  \n",
      "672        Mia Goth,Jenna Ortega,Brittany Snow,Kid Cudi   3.59  \n",
      "1419  Hugh Jackman,Halle Berry,Ian McKellen,Famke Ja...   3.79  \n",
      "1591  Hugh Jackman,Halle Berry,Ian McKellen,Famke Ja...   3.79  \n",
      "\n",
      "[473 rows x 10 columns]\n"
     ]
    }
   ],
   "source": [
    "# Delete duplicate titles\n",
    "duplicates_title = film_data[film_data.duplicated('title', keep=False)]\n",
    "duplicates_title = duplicates_title.sort_values('title')\n",
    "print(duplicates_title)"
   ]
  },
  {
   "cell_type": "code",
   "execution_count": 7,
   "metadata": {},
   "outputs": [],
   "source": [
    "film_data = film_data.drop_duplicates('title', keep='first')\n"
   ]
  },
  {
   "cell_type": "code",
   "execution_count": 8,
   "metadata": {},
   "outputs": [
    {
     "name": "stdout",
     "output_type": "stream",
     "text": [
      "        Unnamed: 0  Movie_Rating  No_of_Ratings  ReleaseYear       Price\n",
      "count  1870.000000   1870.000000    1870.000000  1833.000000  916.000000\n",
      "mean   1055.118717      4.483797    8208.656150  2008.404255    4.907041\n",
      "std     621.813373      0.256117   16244.423267    14.720419    6.998871\n",
      "min       0.000000      4.000000       1.000000  1931.000000    0.890000\n",
      "25%     518.250000      4.300000     302.250000  2002.000000    3.590000\n",
      "50%    1046.500000      4.500000    2063.000000  2013.000000    3.790000\n",
      "75%    1605.000000      4.700000    7839.250000  2019.000000    3.990000\n",
      "max    2116.000000      5.000000  142807.000000  2023.000000  119.990000\n"
     ]
    }
   ],
   "source": [
    "print(film_data.describe()) # 2108 -> 1870 distinct rows"
   ]
  },
  {
   "cell_type": "code",
   "execution_count": 9,
   "metadata": {},
   "outputs": [
    {
     "name": "stdout",
     "output_type": "stream",
     "text": [
      "<class 'pandas.core.frame.DataFrame'>\n",
      "Index: 1870 entries, 0 to 2107\n",
      "Data columns (total 10 columns):\n",
      " #   Column         Non-Null Count  Dtype  \n",
      "---  ------         --------------  -----  \n",
      " 0   Unnamed: 0     1870 non-null   int64  \n",
      " 1   title          1870 non-null   object \n",
      " 2   Movie_Rating   1870 non-null   float64\n",
      " 3   No_of_Ratings  1870 non-null   int64  \n",
      " 4   Format         1870 non-null   object \n",
      " 5   ReleaseYear    1833 non-null   float64\n",
      " 6   MPAA_Rating    1215 non-null   object \n",
      " 7   Directed_By    1810 non-null   object \n",
      " 8   Starring       1869 non-null   object \n",
      " 9   Price          916 non-null    float64\n",
      "dtypes: float64(3), int64(2), object(5)\n",
      "memory usage: 160.7+ KB\n",
      "None\n",
      "Unnamed: 0         0\n",
      "title              0\n",
      "Movie_Rating       0\n",
      "No_of_Ratings      0\n",
      "Format             0\n",
      "ReleaseYear       37\n",
      "MPAA_Rating      655\n",
      "Directed_By       60\n",
      "Starring           1\n",
      "Price            954\n",
      "dtype: int64\n"
     ]
    }
   ],
   "source": [
    "print(film_data.info())\n",
    "print(film_data.isnull().sum())"
   ]
  },
  {
   "cell_type": "code",
   "execution_count": 10,
   "metadata": {},
   "outputs": [
    {
     "name": "stdout",
     "output_type": "stream",
     "text": [
      "      Unnamed: 0                                              title  \\\n",
      "305          305                              PAW Patrol: Moto Pups   \n",
      "347          347  The Super Mario Bros. Movie (Blu-Ray + DVD + D...   \n",
      "475          475                                     Season Of Fear   \n",
      "553          553              First Emperor: The Man Who Made China   \n",
      "570          570                                                Spy   \n",
      "734          734  The Lord of the Rings: The Motion Picture Tril...   \n",
      "800          800                                             Sirens   \n",
      "807          807                                 Black Girl Erupted   \n",
      "809          809                                 Bullet to the Head   \n",
      "861          861                                       Dog Soldiers   \n",
      "1010        1010  Spider-Man: Across The Spider-Verse - UHD/BD C...   \n",
      "1027        1027                                        The Getaway   \n",
      "1052        1052     Batman: The Complete Animated Series [Blu-ray]   \n",
      "1114        1114  Harry Potter: 8-Film Collection [4K Ultra HD +...   \n",
      "1178        1178                         Barbie (Blu-Ray + Digital)   \n",
      "1200        1200                                      See Jane Date   \n",
      "1282        1291            Barbie (4K Ultra HD + Digital) [4K UHD]   \n",
      "1353        1362                                   SOUND OF FREEDOM   \n",
      "1397        1406                The James Bond Collection [Blu-ray]   \n",
      "1410        1419  Fast X (4K Ultra HD + Blu-Ray + Digital) [4K UHD]   \n",
      "1467        1476                      John Wick: Chapter 4 [4K UHD]   \n",
      "1544        1553                       SOUND OF FREEDOM BD/DVD DGTL   \n",
      "1632        1641                          A Midsummer Night's Dream   \n",
      "1649        1658                                A Night To Remember   \n",
      "1682        1691                               The Goonies [4K UHD]   \n",
      "1683        1692  Game of Thrones: The Complete Collection [4K UHD]   \n",
      "1740        1749                   Once Upon A Time in the District   \n",
      "1781        1790                               Yesterday's Children   \n",
      "1839        1848  Harry Potter: The Complete 8-Film Collection [...   \n",
      "1921        1930    Dune (4k Ultra HD + Blu-Ray + Digital) [4K UHD]   \n",
      "1922        1931  Universal Classic Monsters: Icons of Horror Co...   \n",
      "1945        1954  Universal Classic Monsters: Icons of Horror Co...   \n",
      "1950        1959                     John Wick: Chapter 4 [Blu-ray]   \n",
      "1980        1989                                      The Last Song   \n",
      "1995        2004  WARNER BROS Live Die Repeat: Edge of Tomorrow ...   \n",
      "1998        2007         Transformers: Rise of the Beasts [Blu-ray]   \n",
      "2003        2012         The Flash (4K Ultra HD + Digital) [4K UHD]   \n",
      "\n",
      "      Movie_Rating  No_of_Ratings       Format  ReleaseYear MPAA_Rating  \\\n",
      "305            5.0              1  Prime Video          NaN         NaN   \n",
      "347            4.8          43543      Blu-ray          NaN         NaN   \n",
      "475            4.6              4  Prime Video          NaN         NaN   \n",
      "553            4.2             51  Prime Video          NaN         NaN   \n",
      "570            4.6          19474  Prime Video          NaN         NaN   \n",
      "734            4.8          37902           4K          NaN         NaN   \n",
      "800            4.4            303  Prime Video          NaN         NaN   \n",
      "807            5.0              5  Prime Video          NaN         NaN   \n",
      "809            4.4           2426  Prime Video          NaN         NaN   \n",
      "861            4.6           3502  Prime Video          NaN         NaN   \n",
      "1010           4.8           5934           4K          NaN         NaN   \n",
      "1027           4.5            417  Prime Video          NaN         NaN   \n",
      "1052           4.9           8679      Blu-ray          NaN         NaN   \n",
      "1114           4.8          86512           4K          NaN         NaN   \n",
      "1178           4.5           1639      Blu-ray          NaN         NaN   \n",
      "1200           4.2            110  Prime Video          NaN         NaN   \n",
      "1282           4.5           1639           4K          NaN         NaN   \n",
      "1353           4.1             61          DVD          NaN         NaN   \n",
      "1397           4.8           3770      Blu-ray          NaN         NaN   \n",
      "1410           4.4          14717           4K          NaN         NaN   \n",
      "1467           4.6          41478           4K          NaN         NaN   \n",
      "1544           4.1             61      Blu-ray          NaN         NaN   \n",
      "1632           4.1            147  Prime Video          NaN         NaN   \n",
      "1649           4.7           2266  Prime Video          NaN         NaN   \n",
      "1682           4.8          39613           4K          NaN         NaN   \n",
      "1683           4.6          10224           4K          NaN         NaN   \n",
      "1740           5.0              1  Prime Video          NaN         NaN   \n",
      "1781           4.0              5  Prime Video          NaN         NaN   \n",
      "1839           4.8          86512          DVD          NaN         NaN   \n",
      "1921           4.5          42577           4K          NaN         NaN   \n",
      "1922           4.8            544           4K          NaN         NaN   \n",
      "1945           4.8            183           4K          NaN         NaN   \n",
      "1950           4.6          41478      Blu-ray          NaN         NaN   \n",
      "1980           4.2             64  Prime Video          NaN         NaN   \n",
      "1995           4.8           1712           4K          NaN         NaN   \n",
      "1998           4.5          12062      Blu-ray          NaN         NaN   \n",
      "2003           4.5            371           4K          NaN         NaN   \n",
      "\n",
      "                                            Directed_By  \\\n",
      "305                                                 NaN   \n",
      "347                                       Aaron Horvath   \n",
      "475                                       Doug Campbell   \n",
      "553                                           Nic Young   \n",
      "570                                           Paul Feig   \n",
      "734                                       Peter Jackson   \n",
      "800                                         John Duigan   \n",
      "807                               Vanessa Bell Calloway   \n",
      "809                                         Walter Hill   \n",
      "861                                       Neil Marshall   \n",
      "1010                     Joaquim Dos Santos,Kemp Powers   \n",
      "1027                                    Roger Donaldson   \n",
      "1052                                            Various   \n",
      "1114  Chris Columbus,Alfonso Cuarón,Mike Newell,Davi...   \n",
      "1178                                       greta gerwig   \n",
      "1200                                   Robert Berlinger   \n",
      "1282                                       greta gerwig   \n",
      "1353                                                NaN   \n",
      "1397                                            Various   \n",
      "1410                                                NaN   \n",
      "1467                                                NaN   \n",
      "1544                                                NaN   \n",
      "1632                                         David Kerr   \n",
      "1649                                     Roy Ward Baker   \n",
      "1682                                     Richard Donner   \n",
      "1683                                            Various   \n",
      "1740                                     Harold Jackson   \n",
      "1781                                        Marcus Cole   \n",
      "1839  Chris Columbus,Alfonso Cuaron,Mike Newell,Davi...   \n",
      "1921                                   Denis Villeneuve   \n",
      "1922            James Whale,Tod Browning,George Waggner   \n",
      "1945   Arthur Lubin,Karl Freund,Jack Arnold,James Whale   \n",
      "1950                                                NaN   \n",
      "1980                                       Alan J. Levi   \n",
      "1995                                         Doug Liman   \n",
      "1998                                                NaN   \n",
      "2003                                    Andy Muschietti   \n",
      "\n",
      "                                               Starring   Price  \n",
      "305                                                 ---     NaN  \n",
      "347             Chris Pratt,Anna Taylor-Joy,Charlie Day   12.99  \n",
      "475                              Ray Wise,Michael Bowen     NaN  \n",
      "553                       James Pax,Ji Wang,Samuel West     NaN  \n",
      "570           Melissa McCarthy,Jason Statham,Rose Byrne     NaN  \n",
      "734   Elijah Wood,Ian McKellen,Liv Tyler,Viggo Morte...   76.99  \n",
      "800   Elle Macpherson,Hugh Grant,Sam Neill,Tara Fitz...     NaN  \n",
      "807   Vanessa Williams,Vanessa Bell Calloway,B.J. Britt     NaN  \n",
      "809            Sylvester Stallone,Sung Kang,Sarah Shahi     NaN  \n",
      "861                                        Sean Pertwee     NaN  \n",
      "1010   Shameik Moore,Hailee Steinfeld,Brian Tyree Henry   21.24  \n",
      "1027                          Alec Baldwin,Kim Basinger     NaN  \n",
      "1052                                            Various   52.75  \n",
      "1114          Daniel Radcliffe,Rupert Grint,Emma Watson   95.99  \n",
      "1178            margot robbie,ryan gosling,will ferrell   24.96  \n",
      "1200                    Charisma Carpenter,Zachary Levi     NaN  \n",
      "1282            margot robbie,ryan gosling,will ferrell   29.96  \n",
      "1353                          Jim Caviezel,Mira Sorvino   19.96  \n",
      "1397                                            Various   54.99  \n",
      "1410          Vin Diesel,Michelle Rodriguez,Jason Momoa   22.24  \n",
      "1467                         Keanu Reeves,Lance Reddick   20.99  \n",
      "1544                          Jim Caviezel,Mira Sorvino   19.96  \n",
      "1632            John Hannah,Matt Lucas,Bernard Cribbins     NaN  \n",
      "1649                          Kenneth More,Ronald Allen     NaN  \n",
      "1682    Sean Astin,Josh Brolin,Jeff Cohen,Corey Feldman   15.59  \n",
      "1683                                            Various  119.99  \n",
      "1740               Judi Johnson,Ashley Rios,Karon Riley     NaN  \n",
      "1781  Jane Seymour,Clancy Brown,Kyle Howard,Denis Co...     NaN  \n",
      "1839          Daniel Radcliffe,Rupert Grint,Emma Watson   49.99  \n",
      "1921     Timothée Chalamet,Rebecca Ferguson,Oscar Isaac   16.99  \n",
      "1922  Bela Lugosi,Boris Karloff,Claude Rains,Lon Cha...   29.99  \n",
      "1945          Boris Karloff,Richard Carlson,Nelson Eddy   29.99  \n",
      "1950                         Keanu Reeves,Lance Reddick   19.96  \n",
      "1980   Paul Rudd,Lynda Carter,Nicholas Pryor,Ronnie Cox     NaN  \n",
      "1995  Tom Cruise,Emily Blunt,Bill Paxton,Brendan Gle...   16.99  \n",
      "1998                   Anthony Ramos,Dominique Fishback   24.96  \n",
      "2003             Michael Keaton,Ezra Miller,Sasha Calle   24.61  \n"
     ]
    }
   ],
   "source": [
    "print(film_data[film_data['ReleaseYear'].isnull()])\n",
    "# We see that some of the rows have missing values in the ReleaseYear column have popular movies, so we can't drop it\n",
    "# Fill it with median value\n",
    "film_data['ReleaseYear'] = film_data['ReleaseYear'].fillna(film_data['ReleaseYear'].median())\n"
   ]
  },
  {
   "cell_type": "code",
   "execution_count": 11,
   "metadata": {},
   "outputs": [
    {
     "name": "stdout",
     "output_type": "stream",
     "text": [
      "Unnamed: 0         0\n",
      "title              0\n",
      "Movie_Rating       0\n",
      "No_of_Ratings      0\n",
      "Format             0\n",
      "ReleaseYear        0\n",
      "MPAA_Rating      629\n",
      "Directed_By        0\n",
      "Starring           1\n",
      "Price            933\n",
      "dtype: int64\n"
     ]
    }
   ],
   "source": [
    "# print(film_data.isnull().sum()) # No missing values in ReleaseYear column\n",
    "# print(film_data[film_data['Directed_By'].isnull() & (film_data['No_of_Ratings']>=100)].count())\n",
    "# Drop rows with missing values in Directed_By column with condition that No_of_Ratings < 100\n",
    "index_to_drop = film_data[film_data['Directed_By'].isnull() & (film_data['No_of_Ratings']<100)].index\n",
    "film_data = film_data.drop(index_to_drop)\n",
    "# Fill another missing values with 'Unknown'\n",
    "film_data['Directed_By'] = film_data['Directed_By'].fillna('Unknown')\n",
    "print(film_data.isnull().sum()) # No missing values in Directed_By column"
   ]
  },
  {
   "cell_type": "code",
   "execution_count": 12,
   "metadata": {},
   "outputs": [
    {
     "name": "stdout",
     "output_type": "stream",
     "text": [
      "Unnamed: 0         0\n",
      "title              0\n",
      "Movie_Rating       0\n",
      "No_of_Ratings      0\n",
      "Format             0\n",
      "ReleaseYear        0\n",
      "MPAA_Rating      628\n",
      "Directed_By        0\n",
      "Starring           0\n",
      "Price            932\n",
      "dtype: int64\n"
     ]
    }
   ],
   "source": [
    "# print(film_data[film_data['Starring'].isnull()]) # 1 row with missing value in Starring column\n",
    "# With only 1 row missing value in Starring column and little No_of_Ratings, we can drop it\n",
    "film_data = film_data.dropna(subset=['Starring'])\n",
    "print(film_data.isnull().sum()) # No missing values in Starring column"
   ]
  },
  {
   "cell_type": "code",
   "execution_count": 13,
   "metadata": {},
   "outputs": [
    {
     "name": "stdout",
     "output_type": "stream",
     "text": [
      "3       NaN\n",
      "21      NaN\n",
      "28      NaN\n",
      "45      NaN\n",
      "58      NaN\n",
      "       ... \n",
      "2098    NaN\n",
      "2099    NaN\n",
      "2101    NaN\n",
      "2103    NaN\n",
      "2104    NaN\n",
      "Name: MPAA_Rating, Length: 628, dtype: object\n",
      "0           R\n",
      "1           R\n",
      "2          PG\n",
      "4          PG\n",
      "5           R\n",
      "        ...  \n",
      "2100       PG\n",
      "2102    PG-13\n",
      "2105       PG\n",
      "2106        R\n",
      "2107    PG-13\n",
      "Name: MPAA_Rating, Length: 1211, dtype: object\n"
     ]
    }
   ],
   "source": [
    "missing_data = film_data[film_data['MPAA_Rating'].isnull()]\n",
    "non_missing_data = film_data[film_data['MPAA_Rating'].notnull()]\n",
    "print(missing_data['MPAA_Rating'])\n",
    "print(non_missing_data['MPAA_Rating'])\n"
   ]
  },
  {
   "cell_type": "code",
   "execution_count": 28,
   "metadata": {},
   "outputs": [
    {
     "name": "stdout",
     "output_type": "stream",
     "text": [
      "['#Unfit: The Psychology of Donald Trump' '10 Cloverfield Lane' '10 YEARS'\n",
      " ... 'xXx: Return of Xander Cage' 'xXx: State of the Union'\n",
      " '¿Quieres ser mi hijo?']\n"
     ]
    }
   ],
   "source": [
    "from sklearn.preprocessing import OneHotEncoder, LabelEncoder\n",
    "from sklearn.neighbors import KNeighborsClassifier\n",
    "\n",
    "class CustomLabelEncoder(LabelEncoder):\n",
    "    def transform(self, y):\n",
    "        # Find labels in `y` that are not in `self.classes_`\n",
    "        new_labels = np.setdiff1d(y, self.classes_)\n",
    "        # If there are new labels, append them to `self.classes_`\n",
    "        if len(new_labels)>0:\n",
    "            self.classes_ = np.append(self.classes_, new_labels)\n",
    "        # Call the `transform` method from the parent class\n",
    "        return super().transform(y)\n",
    "label_encoder = CustomLabelEncoder()\n",
    "features = ['title']\n",
    "label_encoder.fit(film_data[features].values.ravel())\n",
    "print(label_encoder.classes_)\n"
   ]
  },
  {
   "cell_type": "code",
   "execution_count": 30,
   "metadata": {},
   "outputs": [
    {
     "name": "stdout",
     "output_type": "stream",
     "text": [
      "Unnamed: 0         0\n",
      "title              0\n",
      "Movie_Rating       0\n",
      "No_of_Ratings      0\n",
      "Format             0\n",
      "ReleaseYear        0\n",
      "MPAA_Rating        0\n",
      "Directed_By        0\n",
      "Starring           0\n",
      "Price            932\n",
      "dtype: int64\n"
     ]
    }
   ],
   "source": [
    "X_train = label_encoder.transform(non_missing_data[features].values.ravel())\n",
    "X_train = X_train.reshape(-1, len(features))\n",
    "y_train = non_missing_data['MPAA_Rating']\n",
    "\n",
    "# Create a KNeighborsClassifier object\n",
    "knn = KNeighborsClassifier(n_neighbors=4)\n",
    "# Fit the classifier\n",
    "knn.fit(X_train, y_train)\n",
    "\n",
    "X_missing = label_encoder.transform(missing_data[features].values.ravel())\n",
    "X_missing = X_missing.reshape(-1, len(features))\n",
    "\n",
    "missing_data['MPAA_Rating'] = knn.predict(X_missing)\n",
    "\n",
    "# Concatenate missing_data and non_missing_data\n",
    "film_data = pd.concat([missing_data, non_missing_data], axis=0)\n",
    "print(film_data.isnull().sum()) # No missing values in MPAA_Rating column"
   ]
  },
  {
   "cell_type": "code",
   "execution_count": 36,
   "metadata": {},
   "outputs": [
    {
     "data": {
      "image/png": "[encoded data removed]",
      "text/plain": [
       "<Figure size 640x480 with 1 Axes>"
      ]
     },
     "metadata": {},
     "output_type": "display_data"
    }
   ],
   "source": [
    "film_data['MPAA_Rating'].value_counts().plot(kind='bar')\n",
    "plt.show()"
   ]
  },
  {
   "cell_type": "code",
   "execution_count": 41,
   "metadata": {},
   "outputs": [
    {
     "name": "stdout",
     "output_type": "stream",
     "text": [
      "     Unnamed: 0                         title  Movie_Rating  No_of_Ratings  \\\n",
      "101         101  You Asked to See the Monster           4.0            551   \n",
      "\n",
      "          Format  ReleaseYear MPAA_Rating    Directed_By    Starring  Price  \n",
      "101  Prime Video       2023.0       PG-13  Thomas Leader  Gary Green    NaN  \n"
     ]
    }
   ],
   "source": [
    "print(film_data[film_data['title']=='You Asked to See the Monster'])"
   ]
  },
  {
   "cell_type": "code",
   "execution_count": 49,
   "metadata": {},
   "outputs": [
    {
     "data": {
      "image/png": "[encoded data removed]",
      "text/plain": [
       "<Figure size 640x480 with 1 Axes>"
      ]
     },
     "metadata": {},
     "output_type": "display_data"
    },
    {
     "name": "stdout",
     "output_type": "stream",
     "text": [
      "0.07551397816644347\n"
     ]
    }
   ],
   "source": [
    "plt.scatter(film_data['Format'], film_data['Price'])\n",
    "plt.xlabel('Format')\n",
    "plt.ylabel('Price')\n",
    "plt.show()\n",
    "print(film_data['ReleaseYear'].corr(film_data['Price']))"
   ]
  },
  {
   "cell_type": "code",
   "execution_count": 63,
   "metadata": {},
   "outputs": [
    {
     "name": "stdout",
     "output_type": "stream",
     "text": [
      "Unnamed: 0       0\n",
      "title            0\n",
      "Movie_Rating     0\n",
      "No_of_Ratings    0\n",
      "Format           0\n",
      "ReleaseYear      0\n",
      "MPAA_Rating      0\n",
      "Directed_By      0\n",
      "Starring         0\n",
      "Price            0\n",
      "dtype: int64\n",
      "    Unnamed: 0                                    title  Movie_Rating  \\\n",
      "3            3                                    Kelce           5.0   \n",
      "21          21                                 Twilight           4.7   \n",
      "28          28         Rock Dog 2: Rock Around the Park           4.3   \n",
      "45          45                                 My Fault           4.7   \n",
      "58          58  Love & Murder: Atlanta Playboy Part One           4.2   \n",
      "\n",
      "    No_of_Ratings       Format  ReleaseYear MPAA_Rating          Directed_By  \\\n",
      "3             570  Prime Video       2023.0           R           Don Argott   \n",
      "21          36270  Prime Video       2008.0       PG-13  Catherine Hardwicke   \n",
      "28           2013  Prime Video       2021.0           G           Mark Baldo   \n",
      "45            927  Prime Video       2023.0           R     Domingo González   \n",
      "58              8  Prime Video       2023.0           R         Jaira Thomas   \n",
      "\n",
      "                                             Starring     Price  \n",
      "3   Jason Kelce,Travis Kelce,Kylie Kelce,Connor Ba...  4.126088  \n",
      "21       Kristen Stewart,Robert Pattinson,Billy Burke  3.990000  \n",
      "28          Andrew Francis,Ashleigh Ball,Brian Dobson  4.126088  \n",
      "45         Nicole Wallace,Gabriel Guevara,Marta Hazas  4.126088  \n",
      "58     Taye Diggs,Keesha Sharp,Rob Brown,Ciera Payton  4.126088  \n"
     ]
    }
   ],
   "source": [
    "film_data['Price'] = film_data.groupby('Format')['Price'].transform(lambda x: x.fillna(x.mean()))\n",
    "print(film_data.isnull().sum())\n",
    "print(film_data.head())"
   ]
  },
  {
   "cell_type": "code",
   "execution_count": 64,
   "metadata": {},
   "outputs": [],
   "source": [
    "# After cleaning data, we will save it to a new csv file\n",
    "film_data.to_csv('Amazon- Movies and Films_cleaned.csv',\n",
    "                 index=False)\n"
   ]
  },
  {
   "cell_type": "code",
   "execution_count": 65,
   "metadata": {},
   "outputs": [],
   "source": [
    "import warnings\n",
    "warnings.filterwarnings('ignore', category=UserWarning)"
   ]
  },
  {
   "cell_type": "code",
   "execution_count": null,
   "metadata": {},
   "outputs": [],
   "source": [
    "# Now we build a recommendation system using collaborative filtering\n"
   ]
  }
 ],
 "metadata": {
  "kernelspec": {
   "display_name": "Python 3",
   "language": "python",
   "name": "python3"
  },
  "language_info": {
   "codemirror_mode": {
    "name": "ipython",
    "version": 3
   },
   "file_extension": ".py",
   "mimetype": "text/x-python",
   "name": "python",
   "nbconvert_exporter": "python",
   "pygments_lexer": "ipython3",
   "version": "3.12.9"
  }
 },
 "nbformat": 4,
 "nbformat_minor": 2
}
